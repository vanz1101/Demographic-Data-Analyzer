{
 "cells": [
  {
   "cell_type": "code",
   "execution_count": 1,
   "id": "12ad9d7a",
   "metadata": {},
   "outputs": [
    {
     "data": {
      "text/html": [
       "<div>\n",
       "<style scoped>\n",
       "    .dataframe tbody tr th:only-of-type {\n",
       "        vertical-align: middle;\n",
       "    }\n",
       "\n",
       "    .dataframe tbody tr th {\n",
       "        vertical-align: top;\n",
       "    }\n",
       "\n",
       "    .dataframe thead th {\n",
       "        text-align: right;\n",
       "    }\n",
       "</style>\n",
       "<table border=\"1\" class=\"dataframe\">\n",
       "  <thead>\n",
       "    <tr style=\"text-align: right;\">\n",
       "      <th></th>\n",
       "      <th>age</th>\n",
       "      <th>workclass</th>\n",
       "      <th>fnlwgt</th>\n",
       "      <th>education</th>\n",
       "      <th>education-num</th>\n",
       "      <th>marital-status</th>\n",
       "      <th>occupation</th>\n",
       "      <th>relationship</th>\n",
       "      <th>race</th>\n",
       "      <th>sex</th>\n",
       "      <th>capital-gain</th>\n",
       "      <th>capital-loss</th>\n",
       "      <th>hours-per-week</th>\n",
       "      <th>native-country</th>\n",
       "      <th>salary</th>\n",
       "    </tr>\n",
       "  </thead>\n",
       "  <tbody>\n",
       "    <tr>\n",
       "      <th>0</th>\n",
       "      <td>39</td>\n",
       "      <td>State-gov</td>\n",
       "      <td>77516</td>\n",
       "      <td>Bachelors</td>\n",
       "      <td>13</td>\n",
       "      <td>Never-married</td>\n",
       "      <td>Adm-clerical</td>\n",
       "      <td>Not-in-family</td>\n",
       "      <td>White</td>\n",
       "      <td>Male</td>\n",
       "      <td>2174</td>\n",
       "      <td>0</td>\n",
       "      <td>40</td>\n",
       "      <td>United-States</td>\n",
       "      <td>&lt;=50K</td>\n",
       "    </tr>\n",
       "    <tr>\n",
       "      <th>1</th>\n",
       "      <td>50</td>\n",
       "      <td>Self-emp-not-inc</td>\n",
       "      <td>83311</td>\n",
       "      <td>Bachelors</td>\n",
       "      <td>13</td>\n",
       "      <td>Married-civ-spouse</td>\n",
       "      <td>Exec-managerial</td>\n",
       "      <td>Husband</td>\n",
       "      <td>White</td>\n",
       "      <td>Male</td>\n",
       "      <td>0</td>\n",
       "      <td>0</td>\n",
       "      <td>13</td>\n",
       "      <td>United-States</td>\n",
       "      <td>&lt;=50K</td>\n",
       "    </tr>\n",
       "    <tr>\n",
       "      <th>2</th>\n",
       "      <td>38</td>\n",
       "      <td>Private</td>\n",
       "      <td>215646</td>\n",
       "      <td>HS-grad</td>\n",
       "      <td>9</td>\n",
       "      <td>Divorced</td>\n",
       "      <td>Handlers-cleaners</td>\n",
       "      <td>Not-in-family</td>\n",
       "      <td>White</td>\n",
       "      <td>Male</td>\n",
       "      <td>0</td>\n",
       "      <td>0</td>\n",
       "      <td>40</td>\n",
       "      <td>United-States</td>\n",
       "      <td>&lt;=50K</td>\n",
       "    </tr>\n",
       "    <tr>\n",
       "      <th>3</th>\n",
       "      <td>53</td>\n",
       "      <td>Private</td>\n",
       "      <td>234721</td>\n",
       "      <td>11th</td>\n",
       "      <td>7</td>\n",
       "      <td>Married-civ-spouse</td>\n",
       "      <td>Handlers-cleaners</td>\n",
       "      <td>Husband</td>\n",
       "      <td>Black</td>\n",
       "      <td>Male</td>\n",
       "      <td>0</td>\n",
       "      <td>0</td>\n",
       "      <td>40</td>\n",
       "      <td>United-States</td>\n",
       "      <td>&lt;=50K</td>\n",
       "    </tr>\n",
       "    <tr>\n",
       "      <th>4</th>\n",
       "      <td>28</td>\n",
       "      <td>Private</td>\n",
       "      <td>338409</td>\n",
       "      <td>Bachelors</td>\n",
       "      <td>13</td>\n",
       "      <td>Married-civ-spouse</td>\n",
       "      <td>Prof-specialty</td>\n",
       "      <td>Wife</td>\n",
       "      <td>Black</td>\n",
       "      <td>Female</td>\n",
       "      <td>0</td>\n",
       "      <td>0</td>\n",
       "      <td>40</td>\n",
       "      <td>Cuba</td>\n",
       "      <td>&lt;=50K</td>\n",
       "    </tr>\n",
       "  </tbody>\n",
       "</table>\n",
       "</div>"
      ],
      "text/plain": [
       "   age         workclass  fnlwgt  education  education-num  \\\n",
       "0   39         State-gov   77516  Bachelors             13   \n",
       "1   50  Self-emp-not-inc   83311  Bachelors             13   \n",
       "2   38           Private  215646    HS-grad              9   \n",
       "3   53           Private  234721       11th              7   \n",
       "4   28           Private  338409  Bachelors             13   \n",
       "\n",
       "       marital-status         occupation   relationship   race     sex  \\\n",
       "0       Never-married       Adm-clerical  Not-in-family  White    Male   \n",
       "1  Married-civ-spouse    Exec-managerial        Husband  White    Male   \n",
       "2            Divorced  Handlers-cleaners  Not-in-family  White    Male   \n",
       "3  Married-civ-spouse  Handlers-cleaners        Husband  Black    Male   \n",
       "4  Married-civ-spouse     Prof-specialty           Wife  Black  Female   \n",
       "\n",
       "   capital-gain  capital-loss  hours-per-week native-country salary  \n",
       "0          2174             0              40  United-States  <=50K  \n",
       "1             0             0              13  United-States  <=50K  \n",
       "2             0             0              40  United-States  <=50K  \n",
       "3             0             0              40  United-States  <=50K  \n",
       "4             0             0              40           Cuba  <=50K  "
      ]
     },
     "execution_count": 1,
     "metadata": {},
     "output_type": "execute_result"
    }
   ],
   "source": [
    "import pandas as pd\n",
    "\n",
    "##loading and reading  first five rows of adult data csv\n",
    "df = pd.read_csv('adult.data.csv')\n",
    "df.head()"
   ]
  },
  {
   "cell_type": "code",
   "execution_count": 2,
   "id": "4e51825d",
   "metadata": {},
   "outputs": [
    {
     "data": {
      "text/plain": [
       "White                 27816\n",
       "Black                  3124\n",
       "Asian-Pac-Islander     1039\n",
       "Amer-Indian-Eskimo      311\n",
       "Other                   271\n",
       "Name: race, dtype: int64"
      ]
     },
     "execution_count": 2,
     "metadata": {},
     "output_type": "execute_result"
    }
   ],
   "source": [
    "##how many people of each race are represented in the data set as a pandas series\n",
    "race_count = df.race.value_counts()\n",
    "race_count\n",
    "# race_count = df['race'].value_counts()\n",
    "# race_count"
   ]
  },
  {
   "cell_type": "code",
   "execution_count": 3,
   "id": "03da05be",
   "metadata": {},
   "outputs": [
    {
     "data": {
      "text/plain": [
       "39.4"
      ]
     },
     "execution_count": 3,
     "metadata": {},
     "output_type": "execute_result"
    }
   ],
   "source": [
    "##Average age of men\n",
    "av_age_of_male = round(df[df.sex == 'Male'].age.mean(),1)\n",
    "av_age_of_male"
   ]
  },
  {
   "cell_type": "code",
   "execution_count": 4,
   "id": "5dd5a569",
   "metadata": {},
   "outputs": [
    {
     "data": {
      "text/plain": [
       "16.4"
      ]
     },
     "execution_count": 4,
     "metadata": {},
     "output_type": "execute_result"
    }
   ],
   "source": [
    "##percentage of Bachelor's degree\n",
    "Bachelors_degree_percent = round(len(df[df['education'] == 'Bachelors']) / len(df.index) * 100,1)\n",
    "Bachelors_degree_percent"
   ]
  },
  {
   "cell_type": "code",
   "execution_count": 5,
   "id": "5cfc414a",
   "metadata": {},
   "outputs": [],
   "source": [
    "#people with advanced education: bachelors, masters and doctorate (higher education)\n",
    "advanced_education =((df[\"education\"] == 'Bachelors')  | (df[\"education\"] == 'Masters' ) | (df[\"education\"] == 'Doctorate'))\n",
    "\n",
    "#people earning salary of  > 50K\n",
    "salary_greaterthan_50k = (df[\"salary\"] == '>50K')\n",
    "\n",
    "#peple with bachelors, masters and doctorate (higher education) earning > 50K\n",
    "higher_education = df[salary_greaterthan_50k & advanced_education ]  \n",
    "\n",
    "#peple without bachelors, masters and doctorate earning > 50K\n",
    "lower_education = df[salary_greaterthan_50k & ~advanced_education]  \n"
   ]
  },
  {
   "cell_type": "code",
   "execution_count": 6,
   "id": "234eebf5",
   "metadata": {},
   "outputs": [
    {
     "data": {
      "text/plain": [
       "46.5"
      ]
     },
     "execution_count": 6,
     "metadata": {},
     "output_type": "execute_result"
    }
   ],
   "source": [
    "# percentage of people with advanced education earning > 50K\n",
    "advanced_ed_percent = round((len(higher_education.index) / len(df[advanced_education]))* 100,1)\n",
    "advanced_ed_percent"
   ]
  },
  {
   "cell_type": "code",
   "execution_count": 7,
   "id": "cd13f1db",
   "metadata": {},
   "outputs": [
    {
     "data": {
      "text/plain": [
       "17.4"
      ]
     },
     "execution_count": 7,
     "metadata": {},
     "output_type": "execute_result"
    }
   ],
   "source": [
    "# percentage of people without advanced education earning > 50K\n",
    "without_advanced_ed_percent = round((len(lower_education) / len(df[~advanced_education])) * 100,1)\n",
    "without_advanced_ed_percent"
   ]
  },
  {
   "cell_type": "code",
   "execution_count": 8,
   "id": "f6ff5259",
   "metadata": {},
   "outputs": [
    {
     "data": {
      "text/plain": [
       "1"
      ]
     },
     "execution_count": 8,
     "metadata": {},
     "output_type": "execute_result"
    }
   ],
   "source": [
    "#minimum number of hours a person works per week\n",
    "min_work_hours = df['hours-per-week'].min()\n",
    "min_work_hours"
   ]
  },
  {
   "cell_type": "code",
   "execution_count": 9,
   "id": "a4041d91",
   "metadata": {},
   "outputs": [
    {
     "data": {
      "text/plain": [
       "10.0"
      ]
     },
     "execution_count": 9,
     "metadata": {},
     "output_type": "execute_result"
    }
   ],
   "source": [
    "#dataframe of people working min number of hours per week\n",
    "num_min_workers = df[df['hours-per-week'] == min_work_hours]\n",
    "\n",
    "#people earning salary of  > 50K\n",
    "salary_greaterthan_50k = (df['salary'] == '>50K')\n",
    "\n",
    "# total number of people working\n",
    "len(df)\n",
    "\n",
    "# percentage of the people who work the minimum number of hours per week have a salary of more than 50K\n",
    "percentage_min_hours = round( len(df[df['hours-per-week'] == min_work_hours  & salary_greaterthan_50k ].index) *100 /len(df[df['hours-per-week'] == min_work_hours ]),1)\n",
    "percentage_min_hours"
   ]
  },
  {
   "cell_type": "code",
   "execution_count": 10,
   "id": "654aefac",
   "metadata": {},
   "outputs": [
    {
     "data": {
      "text/plain": [
       "'Iran'"
      ]
     },
     "execution_count": 10,
     "metadata": {},
     "output_type": "execute_result"
    }
   ],
   "source": [
    "#percentage of countries that earn >50k \n",
    "countries_earning_50K = round((df[salary_greaterthan_50k]['native-country'].value_counts()) / (df['native-country'].value_counts()) * 100,1)\n",
    "countries_earning_50K\n",
    "\n",
    "# country that has highest 50k earners\n",
    "#.idxmax() used to find the index (or label) of the maximum value in a Series or DataFrame\n",
    "specific_country_50k = countries_earning_50K.idxmax()\n",
    "specific_country_50k"
   ]
  },
  {
   "cell_type": "code",
   "execution_count": 11,
   "id": "175c3ba0",
   "metadata": {},
   "outputs": [
    {
     "data": {
      "text/plain": [
       "41.9"
      ]
     },
     "execution_count": 11,
     "metadata": {},
     "output_type": "execute_result"
    }
   ],
   "source": [
    "# percentage of country that has highest 50k earners\n",
    "specific_country_50k_percentage = countries_earning_50K.max()\n",
    "specific_country_50k_percentage"
   ]
  },
  {
   "cell_type": "code",
   "execution_count": 12,
   "id": "8ac226e5",
   "metadata": {},
   "outputs": [
    {
     "data": {
      "text/plain": [
       "'Prof-specialty'"
      ]
     },
     "execution_count": 12,
     "metadata": {},
     "output_type": "execute_result"
    }
   ],
   "source": [
    "# the most popular occupation for those who earn >50K in India.\n",
    "\n",
    "# pandas Series than outputs count of most popular indian occupations earning >50k\n",
    "indian_50k = df[(salary_greaterthan_50k )& (df['native-country'] == 'India')].occupation.value_counts()\n",
    "indian_50k\n",
    "\n",
    "# the most popular occupation\n",
    "indian_50k.idxmax()"
   ]
  },
  {
   "cell_type": "code",
   "execution_count": null,
   "id": "31407a69",
   "metadata": {},
   "outputs": [],
   "source": []
  }
 ],
 "metadata": {
  "kernelspec": {
   "display_name": "Python 3 (ipykernel)",
   "language": "python",
   "name": "python3"
  },
  "language_info": {
   "codemirror_mode": {
    "name": "ipython",
    "version": 3
   },
   "file_extension": ".py",
   "mimetype": "text/x-python",
   "name": "python",
   "nbconvert_exporter": "python",
   "pygments_lexer": "ipython3",
   "version": "3.11.4"
  }
 },
 "nbformat": 4,
 "nbformat_minor": 5
}
